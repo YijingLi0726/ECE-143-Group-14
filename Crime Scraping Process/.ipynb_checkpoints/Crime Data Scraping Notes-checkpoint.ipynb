{
 "cells": [
  {
   "cell_type": "markdown",
   "metadata": {},
   "source": [
    "ECE143, Spring 2018\n",
    "\n",
    "Prof. Unpingco\n",
    "\n",
    "Group 14\n",
    "\n",
    "# Scraping Crime Data\n",
    "\n",
    "### Overview\n",
    "\n",
    "- SANDAG and the justice department publish a lot of their data in .pdf format.\n",
    "- There are .csv format tables available, but it is difficult to tell the browser program what data to include/exclude.\n",
    "- We need to convert the tables in the PDFs into pandas tables or numpy arrays before we can combine the crime data with the influencing variables (e.g. weather, homelessness, income, etc.).\n",
    "- Relevant functions are being produced in the `crimepdf`.py module."
   ]
  },
  {
   "cell_type": "markdown",
   "metadata": {},
   "source": [
    "### Step 1: Convert PDF to CSV\n",
    "\n",
    "- If we can get the files as a simple text, then we can use regular expressions and the like to more easily parse out the data.\n",
    "- We want to do this step in python rather than by hand since there are potentially many files form which we can extract the data. Doing so in a batch format would be ideal and the most replicable.\n",
    "- The first python module I found is [`tabula`-py](https://github.com/chezou/tabula-py). It has a function `convert_into_by_batch()` which converts every file in a directory into CSV format.\n",
    "    - Tabula-py is a wrapper for a java program. To get this to work, java must already be installed.\n",
    "    - Install from command line with `pip install tabula-py`"
   ]
  },
  {
   "cell_type": "code",
   "execution_count": 7,
   "metadata": {},
   "outputs": [
    {
     "name": "stdout",
     "output_type": "stream",
     "text": [
      "\"\",Monday,Tuesday,Wednesday,Thursday,,Friday,Saturday,Sunday\n",
      "\n",
      "\"\",,11:00 - 12:20 Enrolled,,1 1:00 - 12:20 Enrolled,,,,\n",
      "\n",
      "11am,,CHEM  151,,CHEM  151,,,,\n",
      "\n",
      "\"\",,LE / NSB 2303,,LE / NSB 2303,,,,\n",
      "\n",
      "\"\",,\"Weizma n, Haim\",,\"Weizma n, Haim\",,,,\n",
      "\n"
     ]
    }
   ],
   "source": [
    "#Example: Converting my class schedule into a CSV\n",
    "#Note: Kernel's current directory is 'ECE-143-Group-14', which contains the 'TEST' direectory\n",
    "import tabula as tab\n",
    "\n",
    "tab.convert_into_by_batch( \"TEST\", output='csv') #CSV is default, just being explicit\n",
    "#The one PDF file in TEST is \"SP18 sched.pdf\"\n",
    "#Also contians a normal .txt file, which gets ignored\n",
    "\n",
    "with open('TEST\\\\SP18 sched.csv', 'r') as sched: #Check the resulting CSV\n",
    "    for i in range(5):\n",
    "        print next(sched) #see first five lines"
   ]
  },
  {
   "cell_type": "markdown",
   "metadata": {},
   "source": [
    "- Manually saving each table from \\[insert file name(s)\\] as a separate PDF into the sub-directory \\[insert dir name\\].\n",
    "- For each PDF, a file with extension '.csv' will be created. New CSV files that share names with old ones will replace the older versions.\n",
    "- Saved some PDF tables published by the [CJSC](https://oag.ca.gov/cjsc/pubs) covering California statewide data going back to 1952 and San Diego region-specific data going back to 2013. Saved under the `\"crime_data\"` directory.\n",
    "\n",
    "Note: \"ARJISPublicCrime041818.txt\" is a CSV downloaded directly from the [SANDAG website](http://www.sandag.org/index.asp?classid=14&subclassid=21&projectid=446&fuseaction=projects.detail). It is ignored by the tabula module."
   ]
  },
  {
   "cell_type": "code",
   "execution_count": 9,
   "metadata": {},
   "outputs": [
    {
     "name": "stdout",
     "output_type": "stream",
     "text": [
      "ARJISPublicCrime041818.txt\n",
      "CAcrimeIndex52-96_cjsc.csv\n",
      "CAcrimeIndex52-96_cjsc.pdf\n",
      "CAcrimes66-15_cjsc.csv\n",
      "CAcrimes66-15_cjsc.pdf\n",
      "SDjurisdiction_2013_cjbulletin.csv\n",
      "SDjurisdiction_2013_cjbulletin.pdf\n",
      "SDjurisdiction_2014_cjbulletin.csv\n",
      "SDjurisdiction_2014_cjbulletin.pdf\n",
      "SDjurisdiction_2015_cjbulletin.csv\n",
      "SDjurisdiction_2015_cjbulletin.pdf\n",
      "SDjurisdiction_2016_cjbulletin.csv\n",
      "SDjurisdiction_2016_cjbulletin.pdf\n",
      "SDjurisdiction_2017_cjbulletin.csv\n",
      "SDjurisdiction_2017_cjbulletin.pdf\n"
     ]
    }
   ],
   "source": [
    "#Converting PDF data tables to CSV\n",
    "#Current directory is \"ECE-143-Group-14\"\n",
    "import tabula as tab\n",
    "import os\n",
    "\n",
    "tab.convert_into_by_batch( \"crime_data\", output='csv')\n",
    "datafiles = os.listdir(\"crime_data\") #list out file names\n",
    "for data in datafiles:\n",
    "    print data #View all of the data files saved"
   ]
  },
  {
   "cell_type": "markdown",
   "metadata": {},
   "source": [
    "- Checking the output in Excel to clearly see how tabula organized the rows and columns.\n",
    "    - Statewide data:\n",
    "[]()\n",
    "    - County regional data:\n",
    "[]()\n",
    "    - General observations\n",
    "        - Captions below and titles above the tables are removed.\n",
    "        - Multi-line column headers are split into different rows.\n",
    "        - Did not split crime rates from the total counts, which were in separate columns within the same cell in the original PDF.\n",
    "        - In the state data, there are a few empty spacer columns."
   ]
  },
  {
   "cell_type": "markdown",
   "metadata": {},
   "source": [
    "- The UCSD daily police logs are provided as one PDF per day, going back through the past months. I would like to have a program go through and download each one for me instead of doing so myself.\n",
    "    - The URLs are pretty straightforward as far as format:\n",
    "```\n",
    "http://www.police.ucsd.edu/docs/reports/CallsandArrests/CallsForService/[month]%20[day],%20[year].pdf\n",
    "```\n",
    "    - For example, the report for May 5, 2018 would be:\n",
    "```\n",
    "http://www.police.ucsd.edu/docs/reports/CallsandArrests/CallsForService/May%205,%202018.pdf\n",
    "```"
   ]
  },
  {
   "cell_type": "code",
   "execution_count": null,
   "metadata": {},
   "outputs": [],
   "source": []
  }
 ],
 "metadata": {
  "kernelspec": {
   "display_name": "Python 2",
   "language": "python",
   "name": "python2"
  },
  "language_info": {
   "codemirror_mode": {
    "name": "ipython",
    "version": 2
   },
   "file_extension": ".py",
   "mimetype": "text/x-python",
   "name": "python",
   "nbconvert_exporter": "python",
   "pygments_lexer": "ipython2",
   "version": "2.7.14"
  }
 },
 "nbformat": 4,
 "nbformat_minor": 2
}
