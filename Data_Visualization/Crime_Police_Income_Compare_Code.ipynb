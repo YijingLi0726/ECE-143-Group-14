{
 "cells": [
  {
   "cell_type": "markdown",
   "metadata": {},
   "source": [
    "# Visualizing Crimes Data with Law Enforcement Data and Income Data\n",
    "\n",
    "- We have statistics about California counties. One way we can compare these values among counties is with scatter charts.\n",
    "- We will use matplotlib to generate our chart."
   ]
  },
  {
   "cell_type": "code",
   "execution_count": 63,
   "metadata": {
    "collapsed": true
   },
   "outputs": [],
   "source": [
    "%matplotlib inline\n",
    "#Makes matplotlib render in Juppyter notebook\n",
    "\n",
    "#Importing modules needed for data handling and visualization\n",
    "import pandas as pd\n",
    "from pandas import Series, DataFrame\n",
    "import matplotlib.pyplot as plt\n",
    "import matplotlib.patches as patches\n",
    "import matplotlib.axes as axes\n",
    "import datetime\n",
    "import numpy as np\n",
    "import re\n"
   ]
  },
  {
   "cell_type": "markdown",
   "metadata": {},
   "source": [
    "- When we want only care about certain categories in the data, we can just pull data by column headers. This is the function of `Pick_Column()` below.\n",
    "- We want to store that filtered data as a new DataFrame that can be fed directly into a graphing function, such as `matplotlib`."
   ]
  },
  {
   "cell_type": "code",
   "execution_count": 64,
   "metadata": {
    "collapsed": true
   },
   "outputs": [],
   "source": [
    "def Pick_Column(fname,columns):\n",
    "    ''' \n",
    "    This function is used to pick up the column we need from the full data file.\n",
    "    fname should be a string of the data file's name. columns should be a list \n",
    "    containing the requested column name(s) as a string.\n",
    "    \n",
    "    After asserting that all of the inputs are of the expected data type and\n",
    "    that fname can be accessed, fname is read into a pandas DataFrame using\n",
    "    pd.read_csv(). Then the requested columns are compared to the columns\n",
    "    in the dataframe to make sure that they are all present.\n",
    "    \n",
    "    The columns listed are pulled and returned as a new DataFrame.\n",
    "    \n",
    "    :param fname: str, path to access desired CSV file\n",
    "    :param columns: list of str, column(s) to access within the file\n",
    "    :return: pandas DataFrame, the requested column(s) of data\n",
    "    '''\n",
    "    #Checking columns input\n",
    "    assert(isinstance(columns,list)), \"Column names should be provided as list.\"\n",
    "    for c in columns:\n",
    "        assert( isinstance(c, str) ), \"{} is not a str\".format(c)\n",
    "        #columns should be a list of strings\n",
    "    \n",
    "    import os #will use to check whether the file works\n",
    "    \n",
    "    #Checking file name input\n",
    "    assert(isinstance(fname,str)), \"File name must be type str.\"\n",
    "    assert(fname[-3:] == 'csv'), \"File extension is not .csv\"\n",
    "    assert(os.path.exists(fname)), \"File at %s cannor be found.\" % (fname)\n",
    "    \n",
    "    #Convert the csv into pandas dataframe\n",
    "    data = pd.read_csv(fname, header=0)\n",
    "    \n",
    "    #Checking whether the requested columns are in the dataframe\n",
    "    for co in columns:\n",
    "        assert( co in data.columns ), \\\n",
    "              \"%s is not a column in %s\" % (co, fname)\n",
    "    \n",
    "    #Extract the desired data from the dataframe\n",
    "    newdata = data[columns]\n",
    "    return newdata"
   ]
  },
  {
   "cell_type": "markdown",
   "metadata": {},
   "source": [
    "- In other cases, we want to compare data sets within or among a set of years. This is where we use `Pick_year()`.\n",
    "- As before, the output will be a ready-to-use pandas DataFrame."
   ]
  },
  {
   "cell_type": "code",
   "execution_count": 65,
   "metadata": {
    "collapsed": true
   },
   "outputs": [],
   "source": [
    "def Pick_year(fname,year):\n",
    "    ''' \n",
    "    This function is used to select the data of a specific year from a data\n",
    "    file. fname should be a string of the data's file name. year should be \n",
    "    a non-empty list containing the year(s) desired as integers.\n",
    "    \n",
    "    After asserting parameter data types and checking whether fname is a\n",
    "    real file, pandas.read_csv() is used to load the CSV as a DataFrame.\n",
    "    Then, the function checks that 'Year' is an available column in\n",
    "    the DataFrame.\n",
    "    \n",
    "    Looping through each year, it checks whether each year is available in\n",
    "    the data before adding all of the matching rows to a list of\n",
    "    DataFrames.\n",
    "    \n",
    "    The DataFrames are concatenated together, and their index is reset to\n",
    "    their position in the output data frame, starting with 0 and counting\n",
    "    upward. Then the final data frame is returned as output.\n",
    "    \n",
    "    :param fname: str, file path of a CSV file\n",
    "    :param year: list of int, years for which data is requested\n",
    "    :return: pandas DataFrame, data rows from the year(s) requested\n",
    "    '''\n",
    "    #Checking the year input\n",
    "    assert(isinstance(year,list)), \"Year(s) must be input in a list.\"\n",
    "    assert(len(year) > 0), \"No years are listed.\"\n",
    "    #This is a problem for the concatenate function later on.\n",
    "    for yr in year:\n",
    "        assert( isinstance(yr, int) ), \"{} is not an int.\".format(y)\n",
    "    \n",
    "    #Checking the file name input\n",
    "    assert(isinstance(fname,str)), \"File name input must be str.\"\n",
    "    assert(fname[-3:] == 'csv'), \"File name does not have a .csv extension.\"\n",
    "    import os\n",
    "    assert(os.path.exists(fname)), \"File named %s not found\" % (fname)\n",
    "    \n",
    "    #Load CSV as a pandas dataframe\n",
    "    df = pd.read_csv(fname, header=0)\n",
    "    #Check that the year can be accessed in the dataframe\n",
    "    assert('Year' in df.columns), \"Year not found as a column header\"\n",
    "    \n",
    "    l = [] #start a list to store rows of data\n",
    "    \n",
    "    for y in year: #going through each year listed\n",
    "        #Check that the dataframe has each year requested\n",
    "#         assert(y in df['Year']), \"Year {0} not found in {1}\".format(y,fname)\n",
    "        #Add the rows for each year to the total list\n",
    "        data = df[df[u'Year'] == y]\n",
    "        l.append(data)\n",
    "    \n",
    "    result = pd.concat(l) #Combine the collected dataframes for the output\n",
    "    result.index = range(len(result)) #reset the index\n",
    "    return result"
   ]
  },
  {
   "cell_type": "markdown",
   "metadata": {},
   "source": [
    "- Our data from [Governing.com](http://www.governing.com/gov-data/safety-justice/law-enforcement-police-department-employee-totals-for-cities.html) contains data from police stations and counties across the U.S.\n",
    "- We want to filter out anything not from California, but we'll leave that as a default so the function can be used for any state.\n",
    "- Looking at specific police departments is important for our analysis of the relationship between the number of police and the amount of crime in an area."
   ]
  },
  {
   "cell_type": "code",
   "execution_count": 66,
   "metadata": {
    "collapsed": true
   },
   "outputs": [],
   "source": [
    "def Pick_by_Police_Department(fname, state='California'):\n",
    "    ''' \n",
    "    This function is used to pick up the data of one state's police departments from the \n",
    "    full data file of police departments from across the US. fname should be a string of\n",
    "    the data file's name. state should be a string of the state's name. The default\n",
    "    state is California, since that is the focus of our project.\n",
    "    \n",
    "    After asserting that the parameters are of the correct data type, the CSV file is\n",
    "    translated and stored as a pandas DataFrame.\n",
    "    \n",
    "    The function asserts that there is column with the header \"Police_Department\" in\n",
    "    the data frame read from the CSV. Then it pulls all of the rows with the requested\n",
    "    state name under Police_Department as another DataFrame. It will return an error\n",
    "    if empty, saying that there was no data for the specified state.\n",
    "    \n",
    "    The index on the output dataframe is converted to the default counting up from 0.\n",
    "    The resulting dataframe is returned as output.\n",
    "    \n",
    "    :param fname: str, file path of a CSV file\n",
    "    :param state: str, default = 'California', state for which data should be pulled\n",
    "    :return: pandas DataFrame, every row with data pertaining to the state given\n",
    "    '''\n",
    "    #checking the state name input\n",
    "    assert(isinstance(state,str)), \"State must be input as str.\"\n",
    "    #Checking the file name input\n",
    "    assert(isinstance(fname,str)), \"File name input must be str.\"\n",
    "    assert(fname[-3:] == 'csv'), \"File name does not have a .csv extension.\"\n",
    "    import os\n",
    "    assert(os.path.exists(fname)), \"File named %s not found\" % (fname)\n",
    "    \n",
    "    #Store in the CSV as a data frame\n",
    "    df = pd.read_csv(fname, header=0)\n",
    "    #Check that the data is sorted by police department\n",
    "    assert(\"Police_Department\" in df.columns), \\\n",
    "          \"{} does not have Police_Department as a column heading.\".format(fname)\n",
    "    #Pull out all rows with \"state name\" in the Police_Department column\n",
    "    l = []\n",
    "    data = df[df.Police_Department.str.contains(state)]\n",
    "    #Check if the result is empty, which would mean a lack of data for the state\n",
    "    assert( len(data) > 0 ), \"No entries could be found for %s.\" % (state)\n",
    "    l.append(data)\n",
    "    result = pd.concat(l)\n",
    "    result.index = range(len(result)) # reset the index\n",
    "    return result"
   ]
  },
  {
   "cell_type": "markdown",
   "metadata": {},
   "source": [
    "**Function Shortcuts**\n",
    "\n",
    "We've renamed some of the pandas functions to make remembering them easier and keep the input parameters consistent while generating plots.\n",
    "\n",
    "`Delete_Column(data,columns)`: Uses `.drop()` to remove columns by providing `axis=1` as an argument.\n",
    "\n",
    "`Change_index(df, column)`: Uses `.tolist()` to change the dataframe's index to a specified column.\n",
    "\n",
    "`Save_to_csv(data, fname)`: Uses `.to_csv()` to save a CSV file without its index values.\n",
    "\n",
    "`Save_to_csv_with_index(data, wfname)`: Uses `.to_csv()` to save a CSV file with its index values by inputting `index=True`."
   ]
  },
  {
   "cell_type": "code",
   "execution_count": 67,
   "metadata": {
    "collapsed": true
   },
   "outputs": [],
   "source": [
    "def Delete_Column(data,columns):\n",
    "    ''' \n",
    "    This function is used to delete the column we don't need from the full data file.\n",
    "    data should be in pandas DataFrame. columns should be a list containing the column's\n",
    "    name as a string\n",
    "    '''\n",
    "    assert(isinstance(columns,list))\n",
    "    newdata = data.drop(columns, axis = 1)\n",
    "    return newdata\n",
    "\n",
    "def Change_index(df, column):\n",
    "    ''' \n",
    "    This function is used to change the index to one column in Pandas DataFrame.\n",
    "    data should be the pandas DataFrame. columns should be a string of the column's \n",
    "    name which we want to use as index\n",
    "    '''    \n",
    "    assert(isinstance(column,str))\n",
    "    df.index = df[column].tolist()\n",
    "    return df\n",
    "\n",
    "def Save_to_csv(data, wfname):\n",
    "    '''\n",
    "    This function is used to export csv file from pandas DataFrame.\n",
    "    wfname should be a string of the file's name you want for the data. \n",
    "    data should be the pandas DataFrame which you want to save into csv.\n",
    "    index == False, it will not save index. index == Ture, it will save index.\n",
    "    '''\n",
    "    assert(isinstance(wfname,str))\n",
    "    assert(wfname[-3:] == 'csv')\n",
    "    data.to_csv(wfname,index=False)\n",
    "    \n",
    "def Save_to_csv_with_index(data, wfname):\n",
    "    '''\n",
    "    This function is used to export csv file from pandas DataFrame.\n",
    "    wfname should be a string of the file's name you want for the data. \n",
    "    data should be the pandas DataFrame which you want to save into csv.\n",
    "    index == False, it will not save index. index == Ture, it will save index.\n",
    "    '''\n",
    "    assert(isinstance(wfname,str))\n",
    "    assert(wfname[-3:] == 'csv')\n",
    "    data.to_csv(wfname,index=True)"
   ]
  },
  {
   "cell_type": "markdown",
   "metadata": {},
   "source": [
    "**Quick Data Summaries**\n",
    "\n",
    "- We've specified some `lambda` functions that will give us the sums over the rows or columns of our data.\n",
    "- This is useful, since matplotlib does not process summary statistics natively in its language."
   ]
  },
  {
   "cell_type": "code",
   "execution_count": 68,
   "metadata": {
    "collapsed": true
   },
   "outputs": [],
   "source": [
    "def Row_Sum(df,column):\n",
    "    '''\n",
    "    This function is used to calculate the sum across rows in a pandas DataFrame.\n",
    "    df should be the pandas DataFrame which you want to calculate the Row_Sum.\n",
    "    Column should be a string as a index of Row_Sum. Note, data in df should be\n",
    "    float or int.\n",
    "    '''    \n",
    "    assert(isinstance(column,str))\n",
    "    df.loc[column] = df.apply(lambda x: x.sum())\n",
    "    return df\n",
    "    \n",
    "def Col_Sum(df):\n",
    "    '''\n",
    "    This function is used to calculate the sum of datas in every column in \n",
    "    each rows in pandas DataFrame.df should be the pandas DataFrame which \n",
    "    you want to calculate the Col_Sum.\n",
    "    '''    \n",
    "    df['Col_sum'] = df.apply(lambda x: x.sum(), axis=1)\n",
    "    return df"
   ]
  },
  {
   "cell_type": "markdown",
   "metadata": {},
   "source": [
    "----\n",
    "\n",
    "# Filtering data sets\n",
    "\n",
    "To make our dataframes less unweildy, we are extracting just the rows and columns that interest us. This primarily consists of searching for locations in California from within the last couple years."
   ]
  },
  {
   "cell_type": "code",
   "execution_count": 69,
   "metadata": {
    "collapsed": true,
    "scrolled": true
   },
   "outputs": [],
   "source": [
    "fname = 'Crimes_data.csv'\n",
    "columns = ['Year','County','Violent_sum','Property_sum']\n",
    "a = Pick_Column(fname,columns)\n",
    "data = a\n",
    "wfname = 'Yearly_County_Violent_Property_Sum.csv'\n",
    "Save_to_csv(data, wfname)"
   ]
  },
  {
   "cell_type": "code",
   "execution_count": 70,
   "metadata": {
    "collapsed": true
   },
   "outputs": [],
   "source": [
    "fname ='Crimes_data.csv'\n",
    "year = [2016]\n",
    "a = Pick_year(fname,year)\n",
    "data = a\n",
    "wfname = '2016_Crimes_data.csv'\n",
    "Save_to_csv(data, wfname)"
   ]
  },
  {
   "cell_type": "code",
   "execution_count": 71,
   "metadata": {
    "collapsed": true
   },
   "outputs": [],
   "source": [
    "fname =  'Yearly_County_Violent_Property_Sum.csv'\n",
    "year = [2016]\n",
    "a = Pick_year(fname,year)\n",
    "data = a\n",
    "wfname = '2016_County_Violent_Property_Sum.csv'\n",
    "Save_to_csv(data, wfname)"
   ]
  },
  {
   "cell_type": "code",
   "execution_count": 72,
   "metadata": {},
   "outputs": [],
   "source": [
    "fname =  'police_data_2016.csv'\n",
    "a = Pick_by_Police_Department(fname,)\n",
    "data = a\n",
    "wfname = 'police_data_2016_California.csv'\n",
    "Save_to_csv(data, wfname)\n"
   ]
  },
  {
   "cell_type": "code",
   "execution_count": 73,
   "metadata": {
    "scrolled": true
   },
   "outputs": [],
   "source": [
    "fname = '2016_County_Violent_Property_Sum.csv'\n",
    "data = pd.read_csv(fname, header=0)\n",
    "columns = ['Year','County']\n",
    "df = Delete_Column(data,columns)\n",
    "column = 'Violent_sum'\n",
    "# Change_index(df, column)\n",
    "# Row_Sum(df,column)"
   ]
  },
  {
   "cell_type": "code",
   "execution_count": 74,
   "metadata": {
    "collapsed": true
   },
   "outputs": [],
   "source": [
    "fname = 'police_data_2016_California.csv'\n",
    "columns = ['Police_Department','Officers','Population']\n",
    "a = Pick_Column(fname,columns)\n",
    "data = a\n",
    "wfname = 'police_data_2016_California_Officers_Total_Num.csv'\n",
    "Save_to_csv(data, wfname)"
   ]
  },
  {
   "cell_type": "code",
   "execution_count": 75,
   "metadata": {
    "collapsed": true
   },
   "outputs": [],
   "source": [
    "def Find_County_of_Police_Departmen(Crimefile,Policefile):\n",
    "    ''' \n",
    "    This function identifies which county in which the police departments in \n",
    "    Policefile are located. Basically, this is accomplished by comparing the\n",
    "    NCICCode in the Crimefile to those in the Policefile. Crimefile and\n",
    "    Policefile should be a string of the data file's name. \n",
    "    \n",
    "    :param Crimefile: str, file with crime statistics for counties\n",
    "    :param Policefile: str, file with police employment statistics\n",
    "    :return: pandas DataFrame, data set with locations for each department\n",
    "    '''\n",
    "    assert(isinstance(Crimefile,str))\n",
    "    assert(isinstance(Policefile,str))\n",
    "    assert(Crimefile[-3:] == 'csv')\n",
    "    assert(Policefile[-3:] == 'csv')\n",
    "    \n",
    "    dfcrime = pd.read_csv(Crimefile, header=0)\n",
    "    dfpolice = pd.read_csv(Policefile, header=0)\n",
    "\n",
    "    dep = []\n",
    "    for department in dfpolice[u'Police_Department']:\n",
    "        department = department.rstrip(' California')\n",
    "        department = department.replace(',','')\n",
    "        dep.append(department)\n",
    "    # dep is the list of police department's name without state's name\n",
    "\n",
    "    area = []\n",
    "    i = 0\n",
    "    for d in dep: # d is one police department's name\n",
    "        A = dfcrime[(dfcrime.NCICCode.str.contains(d))] \n",
    "        # A is a Pandas DataFrame of data that the context of NCICCode include d(police department's name)\n",
    "        # That means this police department is responsible for these NCICCode Areas\n",
    "        Countyname = []\n",
    "        for cn in A[u'County']:\n",
    "            if cn not in Countyname:\n",
    "                Countyname.append(cn)\n",
    "        Countyname = Countyname[0]\n",
    "\n",
    "        Policedepartment = dfpolice[dfpolice.Police_Department.str.contains(d)]\n",
    "        Policedepartment['County'] = Countyname\n",
    "        area.append(Policedepartment)\n",
    "\n",
    "    Policedepartment = pd.concat(area)\n",
    "    Policedepartment.sort_values(by='County',ascending=True)      \n",
    "    return Policedepartment\n"
   ]
  },
  {
   "cell_type": "code",
   "execution_count": 76,
   "metadata": {
    "scrolled": true
   },
   "outputs": [
    {
     "name": "stderr",
     "output_type": "stream",
     "text": [
      "/opt/conda/envs/python2/lib/python2.7/site-packages/ipykernel_launcher.py:40: SettingWithCopyWarning: \n",
      "A value is trying to be set on a copy of a slice from a DataFrame.\n",
      "Try using .loc[row_indexer,col_indexer] = value instead\n",
      "\n",
      "See the caveats in the documentation: http://pandas.pydata.org/pandas-docs/stable/indexing.html#indexing-view-versus-copy\n"
     ]
    }
   ],
   "source": [
    "Crimefile = '2016_Crimes_data.csv'\n",
    "Policefile =  'police_data_2016_California_Officers_Total_Num.csv'\n",
    "data = Find_County_of_Police_Departmen(Crimefile,Policefile)\n",
    "wfname = 'Police_department_with_County.csv'\n",
    "Save_to_csv(data, wfname)"
   ]
  },
  {
   "cell_type": "code",
   "execution_count": 77,
   "metadata": {
    "collapsed": true,
    "scrolled": true
   },
   "outputs": [],
   "source": [
    "def Police_data_by_county(fname):\n",
    "    '''\n",
    "    This function is used to calculate the total numbers of officers and population\n",
    "    in a county. fname should be a string of the data file's name.\n",
    "    \n",
    "    :param fname: str, file containing data on officer employment and population\n",
    "    '''\n",
    "    assert(isinstance(fname,str))\n",
    "    assert(fname[-3:] == 'csv')\n",
    "    \n",
    "    df = pd.read_csv(fname, header=0)\n",
    "    rx = re.compile(',|-') #creating a regular expression including the invalid characters.\n",
    "    df['Officers'] = pd.DataFrame({'Officers': [rx.sub(r'', i) if rx.sub(r'', i) else 0 for i in df[u'Officers']]},dtype=np.float64)\n",
    "\n",
    "    Countyname = []\n",
    "    Sumdata = []\n",
    "    for cn in df[u'County']:\n",
    "        if cn not in Countyname:\n",
    "            Countyname.append(cn)\n",
    "\n",
    "    for countyname in Countyname:\n",
    "        data = df[df[u'County'] == countyname]\n",
    "        columns = ['Police_Department','County']\n",
    "        newdata = Delete_Column(data,columns)\n",
    "\n",
    "        sumdata = Row_Sum(newdata,countyname)\n",
    "        sumbycounty = pd.DataFrame(sumdata.iloc[-1]).T\n",
    "        Sumdata.append(sumbycounty)\n",
    "\n",
    "    Officers_Population_by_County= pd.concat(Sumdata)\n",
    "    Officers_Population_by_County.index.names=['County']\n",
    "    return Officers_Population_by_County"
   ]
  },
  {
   "cell_type": "code",
   "execution_count": 87,
   "metadata": {
    "collapsed": true
   },
   "outputs": [],
   "source": [
    "##### Police_department_with_County.csv need to upload to Jupyter\n",
    "fname = 'Police_department_with_County.csv'\n",
    "Police_data_by_county_sum = Police_data_by_county(fname)\n",
    "Pdata = Police_data_by_county_sum\n",
    "wfname = 'Police_data_by_county.csv'\n",
    "Save_to_csv_with_index(Pdata, wfname)"
   ]
  },
  {
   "cell_type": "code",
   "execution_count": 79,
   "metadata": {
    "collapsed": true
   },
   "outputs": [],
   "source": [
    "def Crime_data_by_county(fname):\n",
    "    '''\n",
    "    This function is used to calculate the totally numbers of Violent and Property crimes\n",
    "    in a county. fname should be a string of the data file's name. \n",
    "    '''\n",
    "    assert(isinstance(fname,str))\n",
    "    assert(fname[-3:] == 'csv')\n",
    "\n",
    "    df = pd.read_csv(fname, header=0)\n",
    "    Countyname = []\n",
    "    Sumdata = []\n",
    "    for cn in df[u'County']:\n",
    "        if cn not in Countyname:\n",
    "            Countyname.append(cn)\n",
    "\n",
    "    for countyname in Countyname:\n",
    "        data = df[df[u'County'] == countyname]\n",
    "        columns = ['Year','County']\n",
    "        newdata = Delete_Column(data,columns)\n",
    "        sumdata = Row_Sum(newdata,countyname)\n",
    "        sumbycounty = pd.DataFrame(sumdata.iloc[-1]).T\n",
    "        Sumdata.append(sumbycounty)\n",
    "\n",
    "    Crimes_by_County= pd.concat(Sumdata)\n",
    "    Crimes_by_County.index.names=['County'] ## give index a name\n",
    "    return Crimes_by_County"
   ]
  },
  {
   "cell_type": "code",
   "execution_count": 80,
   "metadata": {
    "collapsed": true
   },
   "outputs": [],
   "source": [
    "fname = '2016_County_Violent_Property_Sum.csv'\n",
    "Crime_data_by_county_sum = Crime_data_by_county(fname)\n",
    "Cdata = Crime_data_by_county_sum\n",
    "wfname = 'Crime_data_by_county.csv'\n",
    "Save_to_csv_with_index(Cdata, wfname)"
   ]
  },
  {
   "cell_type": "code",
   "execution_count": 81,
   "metadata": {
    "collapsed": true
   },
   "outputs": [],
   "source": [
    "def Merge_two_dataset(Crimefile,Policefile):\n",
    "    '''\n",
    "    This function is used to merge two dataset by county. Crimefile and Policefile \n",
    "    should be a string of the data file's name. \n",
    "    '''\n",
    "    assert(isinstance(Crimefile,str))\n",
    "    assert(isinstance(Policefile,str))\n",
    "    assert(Crimefile[-3:] == 'csv')\n",
    "    assert(Policefile[-3:] == 'csv')\n",
    "    \n",
    "    dfcrime = pd.read_csv(Crimefile, header=0)\n",
    "    dfpolice = pd.read_csv(Policefile, header=0)\n",
    "\n",
    "    Countyname = []\n",
    "    Sumdata = []\n",
    "    for cn in dfpolice[u'County']:\n",
    "        if cn not in Countyname:\n",
    "            Countyname.append(cn)\n",
    "\n",
    "    Datalist = []\n",
    "    for countyname in Countyname:\n",
    "        datacrime = dfcrime[dfcrime[u'County'] == countyname]\n",
    "        Change_index(datacrime, 'County')\n",
    "    #     print type(datapolice[1:2])\n",
    "    #     print datapolice[1:2]\n",
    "    #     print datacrime\n",
    "        datapolice = dfpolice[dfpolice[u'County'] == countyname]\n",
    "        Change_index(datapolice, 'County')\n",
    "    #     print type(datapolice)\n",
    "    #     datapolice['Violent_sum'] = Series.as_matrix(datacrime[u'Violent_sum'])[0]\n",
    "    #     Data.append[datapolice]\n",
    "        Data = pd.concat([datacrime,datapolice],axis=1)\n",
    "        Data = Delete_Column(Data,['County','Population'])\n",
    "        Datalist.append(Data)\n",
    "\n",
    "\n",
    "    DATA = pd.concat(Datalist)\n",
    "    return DATA\n"
   ]
  },
  {
   "cell_type": "code",
   "execution_count": 82,
   "metadata": {
    "collapsed": true
   },
   "outputs": [],
   "source": [
    "Crimefile = 'Crime_data_by_county.csv'\n",
    "Policefile =  'Police_data_by_county.csv'\n",
    "DATA = Merge_two_dataset(Crimefile,Policefile)\n",
    "wfname = 'Crime_Police_by_county.csv'\n",
    "Save_to_csv_with_index(DATA, wfname)"
   ]
  },
  {
   "cell_type": "markdown",
   "metadata": {},
   "source": [
    "----\n",
    "\n",
    "# Analysis of data sets and visualiation\n",
    "\n",
    "We are trying to figure out what are the potentially reasons that may effect the crime rate. At the same time, we wonder how the number of police officer will effect the crime rate."
   ]
  },
  {
   "cell_type": "markdown",
   "metadata": {},
   "source": [
    "#### Relationship between Average Income of counties and Crimes rate："
   ]
  },
  {
   "cell_type": "code",
   "execution_count": 83,
   "metadata": {},
   "outputs": [
    {
     "data": {
      "image/png": "[encoded data removed]",
      "text/plain": [
       "<matplotlib.figure.Figure at 0x7f1abce9d090>"
      ]
     },
     "metadata": {},
     "output_type": "display_data"
    },
    {
     "data": {
      "image/png": "[encoded data removed]",
      "text/plain": [
       "<matplotlib.figure.Figure at 0x7f1abce8a050>"
      ]
     },
     "metadata": {},
     "output_type": "display_data"
    }
   ],
   "source": [
    "fname = 'Data USA - Geo Map of Income by Location in California.csv'\n",
    "year = [2016]\n",
    "df = Pick_year(fname,year)\n",
    "df = df.rename(columns={'geo_name': 'County'})\n",
    "df = Delete_Column(df,['geo','Year'])\n",
    "Crimedata = pd.read_csv('Crime_data_by_county_per.csv',header=0)\n",
    "l = []\n",
    "for c in Crimedata[u'County']:\n",
    "    d = df[df.County.str.contains(c)]\n",
    "    b = Crimedata[Crimedata.County.str.contains(c)]\n",
    "    add = [b, d]\n",
    "    a = pd.concat(add,axis=1)\n",
    "    l.append(a)\n",
    "Data = pd.concat(l)\n",
    "Data = Delete_Column(Data,['County','Violent_sum','Property_sum','Total Population'])\n",
    "Data\n",
    "\n",
    "fig = plt.figure()\n",
    "plt.scatter(Data.income,Data.Violent_Crime_per1k,color='b')\n",
    "plt.xlabel('Average income by county')\n",
    "plt.ylabel('Violent crime number per 1,000 person')\n",
    "plt.title('Relationship between the Income and Violent Crime')\n",
    "fig.savefig('Relationship between the Income and Violent Crime.png',dpi=600)\n",
    "\n",
    "fig = plt.figure()\n",
    "plt.scatter(Data.income,Data.Property_Crime_per1k,color='b')\n",
    "plt.xlabel('Average income by county')\n",
    "plt.ylabel('Property crime number per 1,000 person')\n",
    "plt.title('Relationship between the Income and Property Crime')\n",
    "fig.savefig('Relationship between the Income and Property Crime.png',dpi=600)"
   ]
  },
  {
   "cell_type": "markdown",
   "metadata": {},
   "source": [
    "#### Relationship between the number of police officer and Crimes rate："
   ]
  },
  {
   "cell_type": "code",
   "execution_count": 84,
   "metadata": {},
   "outputs": [
    {
     "data": {
      "image/png": "[encoded data removed]",
      "text/plain": [
       "<matplotlib.figure.Figure at 0x7f1abd1c4510>"
      ]
     },
     "metadata": {},
     "output_type": "display_data"
    },
    {
     "data": {
      "image/png": "[encoded data removed]",
      "text/plain": [
       "<matplotlib.figure.Figure at 0x7f1abcf25b10>"
      ]
     },
     "metadata": {},
     "output_type": "display_data"
    }
   ],
   "source": [
    "##### Crime_Police_by_county_per.csv need to upload to Jupyter\n",
    "Data = pd.read_csv('Crime_Police_by_county_per.csv', header=0)\n",
    "# Data = Data.loc[0:4] #### the rows will plot\n",
    "Change_index(Data, 'County') ### change county into index, so it will on the horizontal coordinate\n",
    "Data = Delete_Column(Data,['County']) ### delete the county column\n",
    "Data.index.names=[u'County'] ## give index a name\n",
    "\n",
    "Data = Data.sort_values(by=['Violent_Crime_per1K'])  \n",
    "\n",
    "fig = plt.figure()\n",
    "plt.scatter(Data.Officers_per10K,Data.Property_Crime_per1K,color='b')\n",
    "plt.ylabel('Property crime number per 1,000 person')\n",
    "plt.xlabel('Police officer number per 10,000 person')\n",
    "plt.title('Relationship between the number of Police Officer and Property Crime')\n",
    "fig.savefig('Relationship between the number of Police Officer and Property Crime.png',dpi=600)\n",
    "\n",
    "fig = plt.figure()\n",
    "plt.scatter(Data.Officers_per10K,Data.Violent_Crime_per1K,color='b')\n",
    "plt.ylabel('Violent crime number per 1,000 person')\n",
    "plt.xlabel('Police officer number per 10,000 person')\n",
    "plt.title('Relationship between the number of Police Officer and Violent Crime')\n",
    "fig.savefig('Relationship between the number of Police Officer and Violent Crime.png',dpi=600)"
   ]
  },
  {
   "cell_type": "markdown",
   "metadata": {
    "collapsed": true
   },
   "source": [
    "#### Top 5 safest counties and Top 5 the most insecure counties:"
   ]
  },
  {
   "cell_type": "code",
   "execution_count": 85,
   "metadata": {},
   "outputs": [
    {
     "data": {
      "text/html": [
       "<div>\n",
       "<table border=\"1\" class=\"dataframe\">\n",
       "  <thead>\n",
       "    <tr style=\"text-align: right;\">\n",
       "      <th></th>\n",
       "      <th></th>\n",
       "      <th>County</th>\n",
       "      <th>Property_Crime_per1K</th>\n",
       "      <th></th>\n",
       "      <th>County</th>\n",
       "      <th>Property_Crime_per1K</th>\n",
       "    </tr>\n",
       "  </thead>\n",
       "  <tbody>\n",
       "    <tr>\n",
       "      <th>0</th>\n",
       "      <td>1</td>\n",
       "      <td>San Benito County</td>\n",
       "      <td>14.278889</td>\n",
       "      <td>1</td>\n",
       "      <td>Humboldt County</td>\n",
       "      <td>148.122128</td>\n",
       "    </tr>\n",
       "    <tr>\n",
       "      <th>1</th>\n",
       "      <td>2</td>\n",
       "      <td>San Mateo County</td>\n",
       "      <td>21.160693</td>\n",
       "      <td>2</td>\n",
       "      <td>Santa Cruz County</td>\n",
       "      <td>79.703726</td>\n",
       "    </tr>\n",
       "    <tr>\n",
       "      <th>2</th>\n",
       "      <td>3</td>\n",
       "      <td>Kings County</td>\n",
       "      <td>22.911657</td>\n",
       "      <td>3</td>\n",
       "      <td>Kern County</td>\n",
       "      <td>70.748477</td>\n",
       "    </tr>\n",
       "    <tr>\n",
       "      <th>3</th>\n",
       "      <td>4</td>\n",
       "      <td>Santa Clara County</td>\n",
       "      <td>25.340764</td>\n",
       "      <td>4</td>\n",
       "      <td>Riverside County</td>\n",
       "      <td>66.297830</td>\n",
       "    </tr>\n",
       "    <tr>\n",
       "      <th>4</th>\n",
       "      <td>5</td>\n",
       "      <td>San Diego County</td>\n",
       "      <td>25.995186</td>\n",
       "      <td>5</td>\n",
       "      <td>Butte County</td>\n",
       "      <td>61.987686</td>\n",
       "    </tr>\n",
       "  </tbody>\n",
       "</table>\n",
       "</div>"
      ],
      "text/plain": [
       "                  County  Property_Crime_per1K                County  \\\n",
       "0  1   San Benito County             14.278889  1    Humboldt County   \n",
       "1  2    San Mateo County             21.160693  2  Santa Cruz County   \n",
       "2  3        Kings County             22.911657  3        Kern County   \n",
       "3  4  Santa Clara County             25.340764  4   Riverside County   \n",
       "4  5    San Diego County             25.995186  5       Butte County   \n",
       "\n",
       "   Property_Crime_per1K  \n",
       "0            148.122128  \n",
       "1             79.703726  \n",
       "2             70.748477  \n",
       "3             66.297830  \n",
       "4             61.987686  "
      ]
     },
     "execution_count": 85,
     "metadata": {},
     "output_type": "execute_result"
    }
   ],
   "source": [
    "##### Crime_Police_by_county_per.csv need to upload to Jupyter\n",
    "Data = pd.read_csv('Crime_Police_by_county_per.csv', header=0)\n",
    "Data = Delete_Column(Data,['Violent_Crime_per1K','Officers_per10K']) ### delete the county column\n",
    "Data = Data.sort_values(by=['Property_Crime_per1K'])  \n",
    "Data.index = range(len(Data))\n",
    "\n",
    "County_lowProCri = Data.loc[0:4]\n",
    "bestranking = pd.DataFrame({\" \": [1, 2, 3, 4, 5]})\n",
    "\n",
    "County_highProCri = Data.loc[31:35]\n",
    "County_highProCri = County_highProCri.sort_values(by=['Property_Crime_per1K'],ascending=False)  \n",
    "County_highProCri.index = range(len(County_highProCri))\n",
    "badranking = pd.DataFrame({\" \": [1, 2, 3, 4, 5]})\n",
    "\n",
    "add = [bestranking, County_lowProCri,badranking,County_highProCri]\n",
    "pd.concat(add,axis=1)\n"
   ]
  },
  {
   "cell_type": "code",
   "execution_count": 86,
   "metadata": {},
   "outputs": [
    {
     "data": {
      "text/html": [
       "<div>\n",
       "<table border=\"1\" class=\"dataframe\">\n",
       "  <thead>\n",
       "    <tr style=\"text-align: right;\">\n",
       "      <th></th>\n",
       "      <th></th>\n",
       "      <th>County</th>\n",
       "      <th>Violent_Crime_per1K</th>\n",
       "      <th></th>\n",
       "      <th>County</th>\n",
       "      <th>Violent_Crime_per1K</th>\n",
       "    </tr>\n",
       "  </thead>\n",
       "  <tbody>\n",
       "    <tr>\n",
       "      <th>0</th>\n",
       "      <td>1</td>\n",
       "      <td>San Mateo County</td>\n",
       "      <td>2.321666</td>\n",
       "      <td>1</td>\n",
       "      <td>Humboldt County</td>\n",
       "      <td>25.248511</td>\n",
       "    </tr>\n",
       "    <tr>\n",
       "      <th>1</th>\n",
       "      <td>2</td>\n",
       "      <td>Placer County</td>\n",
       "      <td>2.566054</td>\n",
       "      <td>2</td>\n",
       "      <td>Madera County</td>\n",
       "      <td>15.872000</td>\n",
       "    </tr>\n",
       "    <tr>\n",
       "      <th>2</th>\n",
       "      <td>3</td>\n",
       "      <td>Marin County</td>\n",
       "      <td>3.146157</td>\n",
       "      <td>3</td>\n",
       "      <td>Shasta County</td>\n",
       "      <td>14.554184</td>\n",
       "    </tr>\n",
       "    <tr>\n",
       "      <th>3</th>\n",
       "      <td>4</td>\n",
       "      <td>Santa Clara County</td>\n",
       "      <td>3.211042</td>\n",
       "      <td>4</td>\n",
       "      <td>San Joaquin County</td>\n",
       "      <td>11.187423</td>\n",
       "    </tr>\n",
       "    <tr>\n",
       "      <th>4</th>\n",
       "      <td>5</td>\n",
       "      <td>Orange County</td>\n",
       "      <td>3.395492</td>\n",
       "      <td>5</td>\n",
       "      <td>Kern County</td>\n",
       "      <td>11.139030</td>\n",
       "    </tr>\n",
       "  </tbody>\n",
       "</table>\n",
       "</div>"
      ],
      "text/plain": [
       "                  County  Violent_Crime_per1K                 County  \\\n",
       "0  1    San Mateo County             2.321666  1     Humboldt County   \n",
       "1  2       Placer County             2.566054  2       Madera County   \n",
       "2  3        Marin County             3.146157  3       Shasta County   \n",
       "3  4  Santa Clara County             3.211042  4  San Joaquin County   \n",
       "4  5       Orange County             3.395492  5         Kern County   \n",
       "\n",
       "   Violent_Crime_per1K  \n",
       "0            25.248511  \n",
       "1            15.872000  \n",
       "2            14.554184  \n",
       "3            11.187423  \n",
       "4            11.139030  "
      ]
     },
     "execution_count": 86,
     "metadata": {},
     "output_type": "execute_result"
    }
   ],
   "source": [
    "##### Crime_Police_by_county_per.csv need to upload to Jupyter\n",
    "Data = pd.read_csv('Crime_Police_by_county_per.csv', header=0)\n",
    "Data = Delete_Column(Data,['Property_Crime_per1K','Officers_per10K']) ### delete the county column\n",
    "Data = Data.sort_values(by=['Violent_Crime_per1K'])  \n",
    "Data.index = range(len(Data))\n",
    "\n",
    "County_lowProCri = Data.loc[0:4]\n",
    "bestranking = pd.DataFrame({\" \": [1, 2, 3, 4, 5]})\n",
    "\n",
    "County_highProCri = Data.loc[31:35]\n",
    "County_highProCri = County_highProCri.sort_values(by=['Violent_Crime_per1K'],ascending=False)  \n",
    "County_highProCri.index = range(len(County_highProCri))\n",
    "badranking = pd.DataFrame({\" \": [1, 2, 3, 4, 5]})\n",
    "\n",
    "add = [bestranking, County_lowProCri,badranking,County_highProCri]\n",
    "pd.concat(add,axis=1)\n"
   ]
  },
  {
   "cell_type": "code",
   "execution_count": null,
   "metadata": {
    "collapsed": true
   },
   "outputs": [],
   "source": []
  },
  {
   "cell_type": "code",
   "execution_count": null,
   "metadata": {
    "collapsed": true
   },
   "outputs": [],
   "source": []
  }
 ],
 "metadata": {
  "kernelspec": {
   "display_name": "Python 2",
   "language": "python",
   "name": "python2"
  },
  "language_info": {
   "codemirror_mode": {
    "name": "ipython",
    "version": 2
   },
   "file_extension": ".py",
   "mimetype": "text/x-python",
   "name": "python",
   "nbconvert_exporter": "python",
   "pygments_lexer": "ipython2",
   "version": "2.7.13"
  }
 },
 "nbformat": 4,
 "nbformat_minor": 2
}
