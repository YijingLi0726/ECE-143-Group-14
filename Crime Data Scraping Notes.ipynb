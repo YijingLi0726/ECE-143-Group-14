{
 "cells": [
  {
   "cell_type": "markdown",
   "metadata": {},
   "source": [
    "ECE143, Spring 2018\n",
    "\n",
    "Prof. Unpingco\n",
    "\n",
    "Group 14\n",
    "\n",
    "# Scraping Crime Data\n",
    "\n",
    "### Overview\n",
    "\n",
    "- SANDAG and the justice department publish a lot of their data in .pdf format.\n",
    "- There are .csv format tables available, but it is difficult to tell the browser program what data to include/exclude.\n",
    "- We need to convert the tables in the PDFs into pandas tables or numpy arrays before we can combine the crime data with the influencing variables (e.g. weather, homelessness, income, etc.).\n",
    "- Relevant functions are being produced in the `crimepdf`.py module."
   ]
  },
  {
   "cell_type": "markdown",
   "metadata": {},
   "source": [
    "### Step 1: Convert PDF to CSV\n",
    "\n",
    "- If we can get the files as a simple text, then we can use regular expressions and the like to more easily parse out the data.\n",
    "- We want to do this step in python rather than by hand since there are potentially many files form which we can extract the data. Doing so in a batch format would be ideal and the most replicable.\n",
    "- The first python module I found is [`tabula`-py](https://github.com/chezou/tabula-py). It has a function `convert_into_by_batch()` which converts every file in a directory into CSV format.\n",
    "    - Tabula-py a wrapper for a java program. To get this to work, java must already be installed.\n",
    "    - Install from command line with `pip install tabula-py`"
   ]
  },
  {
   "cell_type": "code",
   "execution_count": 7,
   "metadata": {},
   "outputs": [
    {
     "name": "stdout",
     "output_type": "stream",
     "text": [
      "\"\",Monday,Tuesday,Wednesday,Thursday,,Friday,Saturday,Sunday\n",
      "\n",
      "\"\",,11:00 - 12:20 Enrolled,,1 1:00 - 12:20 Enrolled,,,,\n",
      "\n",
      "11am,,CHEM  151,,CHEM  151,,,,\n",
      "\n",
      "\"\",,LE / NSB 2303,,LE / NSB 2303,,,,\n",
      "\n",
      "\"\",,\"Weizma n, Haim\",,\"Weizma n, Haim\",,,,\n",
      "\n"
     ]
    }
   ],
   "source": [
    "#Example: Converting my class schedule into a CSV\n",
    "#Note: Kernel's current directory is 'ECE-143-Group-14', which contains the 'TEST' direectory\n",
    "import tabula as tab\n",
    "\n",
    "tab.convert_into_by_batch( \"TEST\", output='csv') #CSV is default, just being explicit\n",
    "#The one PDF file in TEST is \"SP18 sched.pdf\"\n",
    "#Also contians a normal .txt file, which gets ignored\n",
    "\n",
    "with open('TEST\\\\SP18 sched.csv', 'r') as sched: #Check the resulting CSV\n",
    "    for i in range(5):\n",
    "        print next(sched) #see first five lines"
   ]
  },
  {
   "cell_type": "markdown",
   "metadata": {},
   "source": [
    "- Manually saving each table from \\[insert file name(s)\\] as a separate PDF into the sub-directory \\[insert dir name\\].\n",
    "- For each PDF, a file with extension '.csv' will be created. New CSV files that share names with old ones will replace the older versions."
   ]
  },
  {
   "cell_type": "code",
   "execution_count": null,
   "metadata": {},
   "outputs": [],
   "source": []
  }
 ],
 "metadata": {
  "kernelspec": {
   "display_name": "Python 2",
   "language": "python",
   "name": "python2"
  },
  "language_info": {
   "codemirror_mode": {
    "name": "ipython",
    "version": 2
   },
   "file_extension": ".py",
   "mimetype": "text/x-python",
   "name": "python",
   "nbconvert_exporter": "python",
   "pygments_lexer": "ipython2",
   "version": "2.7.14"
  }
 },
 "nbformat": 4,
 "nbformat_minor": 2
}
