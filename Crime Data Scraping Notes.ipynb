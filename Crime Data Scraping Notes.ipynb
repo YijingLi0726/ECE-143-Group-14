{
 "cells": [
  {
   "cell_type": "markdown",
   "metadata": {},
   "source": [
    "ECE143, Spring 2018\n",
    "\n",
    "Prof. Unpingco\n",
    "\n",
    "Group 14\n",
    "\n",
    "# Scraping Crime Data\n",
    "\n",
    "### Overview\n",
    "\n",
    "- SANDAG and the justice department publish a lot of their data in .pdf format.\n",
    "- There are .csv format tables available, but it is difficult to tell the browser program what data to include/exclude.\n",
    "- We need to convert the tables in the PDFs into pandas tables or numpy arrays before we can combine the crime data with the influencing variables (e.g. weather, homelessness, income, etc.).\n",
    "- Relevant functions are being produced in the `crimepdf`.py module."
   ]
  },
  {
   "cell_type": "markdown",
   "metadata": {},
   "source": [
    "### Step 1: Convert PDF to CSV\n",
    "\n",
    "- If we can get the files as a simple text, then we can use regular expressions and the like to more easily parse out the data.\n",
    "- We want to do this step in python rather than by hand since there are potentially many files form which we can extract the data. Doing so in a batch format would be ideal and the most replicable.\n",
    "- The first python module I found is [`tabula`-py](https://github.com/chezou/tabula-py).\n",
    "    - This is a wrapper for a java program. To get this to work, java must already be installed.\n",
    "    - `crimepdf.batch_pdf2csv()` is a function that will submit the files to be converted and spit out a list of new CSV files."
   ]
  },
  {
   "cell_type": "code",
   "execution_count": 2,
   "metadata": {},
   "outputs": [
    {
     "name": "stdout",
     "output_type": "stream",
     "text": [
      "tabula-py not installed. Go to https://github.com/chezou/tabula-py\n"
     ]
    },
    {
     "ename": "ImportError",
     "evalue": "No module named tabula",
     "output_type": "error",
     "traceback": [
      "\u001b[1;31m\u001b[0m",
      "\u001b[1;31mImportError\u001b[0mTraceback (most recent call last)",
      "\u001b[1;32m<ipython-input-2-da0bd75eb541>\u001b[0m in \u001b[0;36m<module>\u001b[1;34m()\u001b[0m\n\u001b[0;32m      1\u001b[0m \u001b[1;31m#Example\u001b[0m\u001b[1;33m\u001b[0m\u001b[1;33m\u001b[0m\u001b[0m\n\u001b[1;32m----> 2\u001b[1;33m \u001b[1;32mfrom\u001b[0m \u001b[0mcrimepdf\u001b[0m \u001b[1;32mimport\u001b[0m \u001b[0mbatch_pdf2csv\u001b[0m \u001b[1;31m#Not functional at all yet\u001b[0m\u001b[1;33m\u001b[0m\u001b[0m\n\u001b[0m",
      "\u001b[1;32mC:\\Users\\seane\\google_drive\\SP18\\group_project\\ECE-143-Group-14\\crimepdf.py\u001b[0m in \u001b[0;36m<module>\u001b[1;34m()\u001b[0m\n\u001b[0;32m     22\u001b[0m           \u001b[1;33m+\u001b[0m \u001b[1;34m\"Go to https://github.com/chezou/tabula-py\"\u001b[0m\u001b[1;33m\u001b[0m\u001b[0m\n\u001b[0;32m     23\u001b[0m \u001b[1;33m\u001b[0m\u001b[0m\n\u001b[1;32m---> 24\u001b[1;33m \u001b[1;32mimport\u001b[0m \u001b[0mtabula\u001b[0m \u001b[1;32mas\u001b[0m \u001b[0mtb\u001b[0m\u001b[1;33m\u001b[0m\u001b[0m\n\u001b[0m\u001b[0;32m     25\u001b[0m \u001b[1;32mimport\u001b[0m \u001b[0mos\u001b[0m\u001b[1;33m\u001b[0m\u001b[0m\n\u001b[0;32m     26\u001b[0m \u001b[1;33m\u001b[0m\u001b[0m\n",
      "\u001b[1;31mImportError\u001b[0m: No module named tabula"
     ]
    }
   ],
   "source": [
    "#Example\n",
    "from crimepdf import batch_pdf2csv #Not functional at all yet"
   ]
  },
  {
   "cell_type": "code",
   "execution_count": null,
   "metadata": {},
   "outputs": [],
   "source": []
  }
 ],
 "metadata": {
  "kernelspec": {
   "display_name": "Python 2",
   "language": "python",
   "name": "python2"
  },
  "language_info": {
   "codemirror_mode": {
    "name": "ipython",
    "version": 2
   },
   "file_extension": ".py",
   "mimetype": "text/x-python",
   "name": "python",
   "nbconvert_exporter": "python",
   "pygments_lexer": "ipython2",
   "version": "2.7.14"
  }
 },
 "nbformat": 4,
 "nbformat_minor": 2
}
