{
 "cells": [
  {
   "cell_type": "code",
   "execution_count": 36,
   "metadata": {},
   "outputs": [],
   "source": [
    "%matplotlib inline\n",
    "import pandas as pd\n",
    "from pandas import DataFrame, read_csv\n",
    "import matplotlib.pyplot as plt"
   ]
  },
  {
   "cell_type": "code",
   "execution_count": 37,
   "metadata": {},
   "outputs": [
    {
     "name": "stdout",
     "output_type": "stream",
     "text": [
      "    Year                  County  Violent_Sum   Violent10k  Property_Sum  \\\n",
      "0   2016          Alameda County        10127   608.890145         59744   \n",
      "1   2016           Alpine County            6   535.714286            34   \n",
      "2   2016           Amador County           92   238.181536           761   \n",
      "3   2016            Butte County          790   344.535836          7307   \n",
      "4   2016        Calaveras County          178   389.752573           656   \n",
      "5   2016           Colusa County           46   210.960789           357   \n",
      "6   2016     Contra Costa County         3895   339.451596         28939   \n",
      "7   2016        Del Norte County          168   611.576265           608   \n",
      "8   2016        El Dorado County          389   205.834264          3042   \n",
      "9   2016           Fresno County         5981   604.596388         31784   \n",
      "10  2016            Glenn County          103   366.626326           559   \n",
      "11  2016         Humboldt County          682   498.705705          4001   \n",
      "12  2016         Imperial County          676   369.742384          5195   \n",
      "13  2016             Inyo County          114   632.419838           334   \n",
      "14  2016             Kern County         5128   574.167608         32570   \n",
      "15  2016            Kings County          639   425.713353          3167   \n",
      "16  2016             Lake County          379   589.919995          1746   \n",
      "17  2016           Lassen County          225   722.010076           513   \n",
      "18  2016      Los Angeles County        56351   554.444445         25224   \n",
      "19  2016           Madera County         1024   652.686596          3705   \n",
      "20  2016            Marin County          475   182.023721          4975   \n",
      "21  2016         Mariposa County           80   455.347487           241   \n",
      "22  2016        Mendocino County          606   688.495535          1444   \n",
      "23  2016           Merced County         1488   545.708596          7658   \n",
      "24  2016            Modoc County           41   462.806186           163   \n",
      "25  2016             Mono County           37   261.151892           162   \n",
      "26  2016         Monterey County         1822   416.070079         10396   \n",
      "27  2016             Napa County          598   424.194704          2524   \n",
      "28  2016           Nevada County          212   212.395055          1806   \n",
      "29  2016           Orange County         7275   228.027833         66054   \n",
      "30  2016           Placer County          622   161.070628          7080   \n",
      "31  2016           Plumas County          120   640.273183           359   \n",
      "32  2016        Riverside County         7447   307.312528         65333   \n",
      "33  2016       Sacramento County         7734   505.287091         39105   \n",
      "34  2016       San Benito County          155   257.005472           543   \n",
      "35  2016   San Bernardino County        10469   485.259136         54937   \n",
      "36  2016        San Diego County        10959  3245.332188         61356   \n",
      "37  2016    San Francisco County         6269   708.871809         48437   \n",
      "38  2016      San Joaquin County         6005   805.581790         22629   \n",
      "39  2016  San Luis Obispo County         1115   393.429897          6687   \n",
      "40  2016        San Mateo County         1634   211.819914         14893   \n",
      "41  2016    Santa Barbara County         1527   340.734129          9779   \n",
      "42  2016      Santa Clara County         5423   279.802472         42797   \n",
      "43  2016       Santa Cruz County         1101   399.061969          9485   \n",
      "44  2016           Shasta County         1333   740.880720          5561   \n",
      "45  2016           Sierra County           14   466.822274            26   \n",
      "46  2016         Siskiyou County          161   367.135658           876   \n",
      "47  2016           Solano County         2022   453.914847         11719   \n",
      "48  2016           Sonoma County         1868   370.475410          7794   \n",
      "49  2016       Stanislaus County         3366   614.346805         17918   \n",
      "50  2016           Sutter County          360   372.485721          2691   \n",
      "51  2016           Tehama County          360   563.151143          1937   \n",
      "52  2016          Trinity County           66   519.317019           299   \n",
      "53  2016           Tulare County         1608   346.183904         11563   \n",
      "54  2016         Tuolumne County          187   344.713169          1272   \n",
      "55  2016          Ventura County         2192   256.607467         16415   \n",
      "56  2016             Yolo County          639   291.626353          5368   \n",
      "57  2016             Yuba County          318   412.820812          1944   \n",
      "\n",
      "      Property0k  Crime_Sum  CrimeTotal10k  White  Hispanic  Black  Asian  \\\n",
      "0    3592.133190      69871    4201.023335   33.7      22.1   12.1   26.8   \n",
      "1    3035.714286         40    3571.428571   70.6       7.5    0.6    1.5   \n",
      "2    1970.175529        853    2208.357065   80.0      12.4    2.5    1.4   \n",
      "3    3186.738423       8097    3531.274259   74.8      14.4    1.3    4.3   \n",
      "4    1436.391504        834    1826.144077   83.2      10.6    0.9    1.3   \n",
      "5    1637.239165        403    1848.199954   39.0      55.9    0.9    1.1   \n",
      "6    2522.051281      32834    2861.502877   47.2      24.0    9.1   14.7   \n",
      "7    2213.323626        776    2824.899891   64.2      18.3    3.2    2.5   \n",
      "8    1609.634525       3431    1815.468789   79.7      12.0    0.9    3.6   \n",
      "9    3212.922856      37765    3817.519244   32.2      50.4    5.1    9.6   \n",
      "10   1989.748701        662    2356.375027   55.1      38.1    0.8    2.5   \n",
      "11   2925.691387       4683    3424.397093   76.9      10.0    1.2    2.3   \n",
      "12   2841.437401       5871    3211.179784   13.4      80.4    3.1    1.5   \n",
      "13   1852.879175        448    2485.299013   65.2      19.9    1.0    1.5   \n",
      "14   3646.770475      37698    4220.938083   37.9      49.4    5.6    4.3   \n",
      "15   2109.912659       3806    2535.626012   34.9      51.1    6.8    3.7   \n",
      "16   2717.678922       2125    3307.598917   73.5      17.5    2.4    1.2   \n",
      "17   1646.182973        738    2368.193049   66.3      17.7    8.4    1.4   \n",
      "18    248.182050      81575     802.626495   27.5      47.5    8.4   13.9   \n",
      "19   2361.527185       4729    3014.213780   37.5      54.0    3.4    2.1   \n",
      "20   1906.458968       5450    2088.482689   72.7      15.3    2.9    5.6   \n",
      "21   1371.734305        321    1827.081792   82.7       9.5    0.9    1.1   \n",
      "22   1640.573519       2050    2329.069054   67.7      22.6    0.7    1.7   \n",
      "23   2808.492223       9146    3354.200819   31.2      55.2    3.7    7.6   \n",
      "24   1839.936787        204    2302.742973   78.4      14.2    1.3    0.3   \n",
      "25   1143.421796        199    1404.573687   67.5      26.7    0.4    0.8   \n",
      "26   2374.020054      12218    2790.090133   32.5      55.4    3.0    6.2   \n",
      "27   1790.413767       3122    2214.608471   55.8      32.3    2.1    7.1   \n",
      "28   1809.365420       2018    2021.760474   86.3       8.6    0.4    1.5   \n",
      "29   2070.398696      73329    2298.426530   43.5      33.6    1.6   18.3   \n",
      "30   1833.408431       7702    1994.479058   75.4      12.9    1.2    6.3   \n",
      "31   1915.483940        479    2555.757123   84.9       8.1    1.2    0.8   \n",
      "32   2696.072160      72780    3003.384688   38.9      45.5    6.2    6.0   \n",
      "33   2554.855401      46839    3060.142492   47.9      21.2   10.1   14.6   \n",
      "34    900.348201        698    1157.353673   37.5      56.3    1.3    2.0   \n",
      "35   2546.440073      65406    3031.699209   32.5      49.3    8.7    6.5   \n",
      "36  18169.595930      72315   21414.928110   48.0      31.9    5.1   11.1   \n",
      "37   5477.049583      54706    6185.921392   41.7      14.7    5.9   33.3   \n",
      "38   3035.721952      28634    3841.303741   35.4      38.6    7.2   14.3   \n",
      "39   2359.520827       7802    2752.950724   70.5      20.9    2.2    3.5   \n",
      "40   1930.620552      16527    2142.440466   41.9      24.8    2.7   25.4   \n",
      "41   2182.081892      11306    2522.816021   47.4      42.7    2.0    5.0   \n",
      "42   2208.133207      48220    2487.935679   34.7      26.3    2.6   32.6   \n",
      "43   3437.877179      10586    3836.939148   59.2      32.1    1.0    4.3   \n",
      "44   3090.800963       6894    3831.681683   82.0       8.6    1.0    2.5   \n",
      "45    866.955652         40    1333.777926   87.2       9.0    0.6    0.1   \n",
      "46   1997.582834       1037    2364.718491   79.0      10.8    1.3    1.4   \n",
      "47   2630.775516      13741    3084.690364   40.5      23.8   14.0   14.7   \n",
      "48   1545.763035       9662    1916.238445   65.8      24.9    1.6    4.0   \n",
      "49   3270.310769      21284    3884.657574   46.1      42.0    2.8    5.3   \n",
      "50   2784.330767       3051    3156.816489   49.8      28.8    1.8   14.2   \n",
      "51   3030.066014       2297    3593.217157   71.3      22.4    0.7    1.2   \n",
      "52   2352.663467        365    2871.980486   83.0       7.2    1.1    1.3   \n",
      "53   2489.380895      13171    2835.564799   31.9      60.7    1.7    3.4   \n",
      "54   2344.786905       1459    2689.500074   81.3      10.8    2.1    1.1   \n",
      "55   1921.629364      18607    2178.236830   48.1      40.3    1.8    6.9   \n",
      "56   2449.843918       6007    2741.470271   49.4      30.1    2.5   12.9   \n",
      "57   2523.659306       2262    2936.480118   57.9      25.7    3.0    7.2   \n",
      "\n",
      "    Mixed  Other Population  \n",
      "0     4.0    1.4  1,663,190  \n",
      "1     0.3   19.5       1120  \n",
      "2     1.8    1.9      38626  \n",
      "3     4.2    0.9     229294  \n",
      "4     3.3    0.8      45670  \n",
      "5     2.1    0.9      21805  \n",
      "6     3.9    1.0    1147439  \n",
      "7     7.0    4.8      27470  \n",
      "8     2.9    0.9     188987  \n",
      "9     2.0    0.8     989255  \n",
      "10    1.3    2.2      28094  \n",
      "11    3.7    5.9     136754  \n",
      "12    0.7    0.9     182830  \n",
      "13    1.5   11.0      18026  \n",
      "14    2.0    0.9     893119  \n",
      "15    2.3    1.3     150101  \n",
      "16    2.0    3.3      64246  \n",
      "17    2.1    4.1      31163  \n",
      "18    2.1    0.7   10163507  \n",
      "19    1.5    1.6     156890  \n",
      "20    2.8    0.7     260955  \n",
      "21    3.1    2.8      17569  \n",
      "22    3.1    4.0      88018  \n",
      "23    1.6    0.7     272673  \n",
      "24    3.1    2.7       8859  \n",
      "25    2.5    2.0      14168  \n",
      "26    2.1    0.9     437907  \n",
      "27    2.0    0.7     140973  \n",
      "28    2.2    1.0      99814  \n",
      "29    2.2    0.7    3190400  \n",
      "30    3.3    0.9     386166  \n",
      "31    1.8    3.2      18742  \n",
      "32    2.3    1.0    2423266  \n",
      "33    4.5    1.8    1530615  \n",
      "34    2.2    0.7      60310  \n",
      "35    2.1    0.9    2157404  \n",
      "36    3.0    0.9     337685  \n",
      "37    3.3    1.1     884363  \n",
      "38    3.4    1.1     745424  \n",
      "39    2.3    0.7     283405  \n",
      "40    3.3    1.9     771410  \n",
      "41    2.1    0.8     448150  \n",
      "42    3.1    0.8    1938153  \n",
      "43    2.9    0.5     275897  \n",
      "44    3.6    2.4     179921  \n",
      "45    1.6    1.6       2999  \n",
      "46    4.7    2.9      43853  \n",
      "47    5.5    1.5     445458  \n",
      "48    2.5    1.3     504217  \n",
      "49    2.4    1.3     547899  \n",
      "50    4.0    1.3      96648  \n",
      "51    2.6    1.8      63926  \n",
      "52    2.0    3.4      12709  \n",
      "53    1.5    0.9     464493  \n",
      "54    2.5    2.1      54248  \n",
      "55    2.3    0.5     854223  \n",
      "56    3.7    1.3     219116  \n",
      "57    4.2    1.9      77031  \n"
     ]
    }
   ],
   "source": [
    "file = r'CrimeByCounty_Clear.csv'\n",
    "df = pd.read_csv(file)\n",
    "print df"
   ]
  },
  {
   "cell_type": "code",
   "execution_count": 52,
   "metadata": {},
   "outputs": [
    {
     "data": {
      "text/plain": [
       "<matplotlib.collections.PathCollection at 0xf9dcba8>"
      ]
     },
     "execution_count": 52,
     "metadata": {},
     "output_type": "execute_result"
    },
    {
     "data": {
      "image/png": "[encoded data removed]",
      "text/plain": [
       "<matplotlib.figure.Figure at 0xea8e208>"
      ]
     },
     "metadata": {},
     "output_type": "display_data"
    }
   ],
   "source": [
    "fig = plt.figure()\n",
    "plt.scatter(df.White, df.Violent10k, color = 'g')\n",
    "plt.scatter(df.Hispanic,df.Violent10k,color = 'r' )\n",
    "plt.scatter(df.Black,df.Violent10k,color = 'b' )\n",
    "plt.scatter(df.Asian,df.Violent10k,color = 'y' )\n",
    "plt.scatter(df.Mixed,df.Violent10k,color = 'c' )\n",
    "plt.scatter(df.Other,df.Violent10k,color = 'k' )"
   ]
  },
  {
   "cell_type": "code",
   "execution_count": 53,
   "metadata": {},
   "outputs": [
    {
     "data": {
      "text/plain": [
       "<matplotlib.collections.PathCollection at 0xf3bc208>"
      ]
     },
     "execution_count": 53,
     "metadata": {},
     "output_type": "execute_result"
    },
    {
     "data": {
      "image/png": "[encoded data removed]",
      "text/plain": [
       "<matplotlib.figure.Figure at 0xfbe3080>"
      ]
     },
     "metadata": {},
     "output_type": "display_data"
    }
   ],
   "source": [
    "fig = plt.figure()\n",
    "plt.scatter(df.White, df.Property0k, color = 'g')\n",
    "plt.scatter(df.Hispanic,df.Property0k,color = 'r' )\n",
    "plt.scatter(df.Black,df.Property0k,color = 'b' )\n",
    "plt.scatter(df.Asian,df.Property0k,color = 'y' )\n",
    "plt.scatter(df.Mixed,df.Property0k,color = 'c' )\n",
    "plt.scatter(df.Other,df.Property0k,color = 'k' )"
   ]
  },
  {
   "cell_type": "code",
   "execution_count": 54,
   "metadata": {},
   "outputs": [
    {
     "data": {
      "text/plain": [
       "<matplotlib.collections.PathCollection at 0xee89438>"
      ]
     },
     "execution_count": 54,
     "metadata": {},
     "output_type": "execute_result"
    },
    {
     "data": {
      "image/png": "[encoded data removed]",
      "text/plain": [
       "<matplotlib.figure.Figure at 0xf2e0400>"
      ]
     },
     "metadata": {},
     "output_type": "display_data"
    }
   ],
   "source": [
    "fig = plt.figure()\n",
    "plt.scatter(df.White, df.CrimeTotal10k, color = 'g')\n",
    "plt.scatter(df.Hispanic,df.CrimeTotal10k,color = 'r' )\n",
    "plt.scatter(df.Black,df.CrimeTotal10k,color = 'b' )\n",
    "plt.scatter(df.Asian,df.CrimeTotal10k,color = 'y' )\n",
    "plt.scatter(df.Mixed,df.CrimeTotal10k,color = 'c' )\n",
    "plt.scatter(df.Other,df.CrimeTotal10k,color = 'k' )"
   ]
  },
  {
   "cell_type": "code",
   "execution_count": null,
   "metadata": {},
   "outputs": [],
   "source": []
  }
 ],
 "metadata": {
  "kernelspec": {
   "display_name": "Python 2",
   "language": "python",
   "name": "python2"
  },
  "language_info": {
   "codemirror_mode": {
    "name": "ipython",
    "version": 2
   },
   "file_extension": ".py",
   "mimetype": "text/x-python",
   "name": "python",
   "nbconvert_exporter": "python",
   "pygments_lexer": "ipython2",
   "version": "2.7.13"
  }
 },
 "nbformat": 4,
 "nbformat_minor": 2
}
