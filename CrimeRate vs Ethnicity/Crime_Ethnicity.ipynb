{
 "cells": [
  {
   "cell_type": "code",
   "execution_count": 28,
   "metadata": {},
   "outputs": [],
   "source": [
    "%matplotlib inline\n",
    "import pandas as pd\n",
    "from pandas import DataFrame, read_csv\n",
    "import matplotlib.pyplot as plt"
   ]
  },
  {
   "cell_type": "code",
   "execution_count": 29,
   "metadata": {},
   "outputs": [
    {
     "name": "stdout",
     "output_type": "stream",
     "text": [
      "    Year                  County  Violent_Sum  Property_Sum  Crime_Sum  White  \\\n",
      "0   2016          Alameda County        10127         59744      69871   33.7   \n",
      "1   2016           Alpine County            6            34         40   70.6   \n",
      "2   2016           Amador County           92           761        853   80.0   \n",
      "3   2016            Butte County          790          7307       8097   74.8   \n",
      "4   2016        Calaveras County          178           656        834   83.2   \n",
      "5   2016           Colusa County           46           357        403   39.0   \n",
      "6   2016     Contra Costa County         3895         28939      32834   47.2   \n",
      "7   2016        Del Norte County          168           608        776   64.2   \n",
      "8   2016        El Dorado County          389          3042       3431   79.7   \n",
      "9   2016           Fresno County         5981         31784      37765   32.2   \n",
      "10  2016            Glenn County          103           559        662   55.1   \n",
      "11  2016         Humboldt County          682          4001       4683   76.9   \n",
      "12  2016         Imperial County          676          5195       5871   13.4   \n",
      "13  2016             Inyo County          114           334        448   65.2   \n",
      "14  2016             Kern County         5128         32570      37698   37.9   \n",
      "15  2016            Kings County          639          3167       3806   34.9   \n",
      "16  2016             Lake County          379          1746       2125   73.5   \n",
      "17  2016           Lassen County          225           513        738   66.3   \n",
      "18  2016      Los Angeles County        56351         25224      81575   27.5   \n",
      "19  2016           Madera County         1024          3705       4729   37.5   \n",
      "20  2016            Marin County          475          4975       5450   72.7   \n",
      "21  2016         Mariposa County           80           241        321   82.7   \n",
      "22  2016        Mendocino County          606          1444       2050   67.7   \n",
      "23  2016           Merced County         1488          7658       9146   31.2   \n",
      "24  2016            Modoc County           41           163        204   78.4   \n",
      "25  2016             Mono County           37           162        199   67.5   \n",
      "26  2016         Monterey County         1822         10396      12218   32.5   \n",
      "27  2016             Napa County          598          2524       3122   55.8   \n",
      "28  2016           Nevada County          212          1806       2018   86.3   \n",
      "29  2016           Orange County         7275         66054      73329   43.5   \n",
      "30  2016           Placer County          622          7080       7702   75.4   \n",
      "31  2016           Plumas County          120           359        479   84.9   \n",
      "32  2016        Riverside County         7447         65333      72780   38.9   \n",
      "33  2016       Sacramento County         7734         39105      46839   47.9   \n",
      "34  2016       San Benito County          155           543        698   37.5   \n",
      "35  2016   San Bernardino County        10469         54937      65406   32.5   \n",
      "36  2016        San Diego County        10959         61356      72315   48.0   \n",
      "37  2016    San Francisco County         6269         48437      54706   41.7   \n",
      "38  2016      San Joaquin County         6005         22629      28634   35.4   \n",
      "39  2016  San Luis Obispo County         1115          6687       7802   70.5   \n",
      "40  2016        San Mateo County         1634         14893      16527   41.9   \n",
      "41  2016    Santa Barbara County         1527          9779      11306   47.4   \n",
      "42  2016      Santa Clara County         5423         42797      48220   34.7   \n",
      "43  2016       Santa Cruz County         1101          9485      10586   59.2   \n",
      "44  2016           Shasta County         1333          5561       6894   82.0   \n",
      "45  2016           Sierra County           14            26         40   87.2   \n",
      "46  2016         Siskiyou County          161           876       1037   79.0   \n",
      "47  2016           Solano County         2022         11719      13741   40.5   \n",
      "48  2016           Sonoma County         1868          7794       9662   65.8   \n",
      "49  2016       Stanislaus County         3366         17918      21284   46.1   \n",
      "50  2016           Sutter County          360          2691       3051   49.8   \n",
      "51  2016           Tehama County          360          1937       2297   71.3   \n",
      "52  2016          Trinity County           66           299        365   83.0   \n",
      "53  2016           Tulare County         1608         11563      13171   31.9   \n",
      "54  2016         Tuolumne County          187          1272       1459   81.3   \n",
      "55  2016          Ventura County         2192         16415      18607   48.1   \n",
      "56  2016             Yolo County          639          5368       6007   49.4   \n",
      "57  2016             Yuba County          318          1944       2262   57.9   \n",
      "\n",
      "    Hispanic  Black  Asian  Mixed  Other  \n",
      "0       22.1   12.1   26.8    4.0    1.4  \n",
      "1        7.5    0.6    1.5    0.3   19.5  \n",
      "2       12.4    2.5    1.4    1.8    1.9  \n",
      "3       14.4    1.3    4.3    4.2    0.9  \n",
      "4       10.6    0.9    1.3    3.3    0.8  \n",
      "5       55.9    0.9    1.1    2.1    0.9  \n",
      "6       24.0    9.1   14.7    3.9    1.0  \n",
      "7       18.3    3.2    2.5    7.0    4.8  \n",
      "8       12.0    0.9    3.6    2.9    0.9  \n",
      "9       50.4    5.1    9.6    2.0    0.8  \n",
      "10      38.1    0.8    2.5    1.3    2.2  \n",
      "11      10.0    1.2    2.3    3.7    5.9  \n",
      "12      80.4    3.1    1.5    0.7    0.9  \n",
      "13      19.9    1.0    1.5    1.5   11.0  \n",
      "14      49.4    5.6    4.3    2.0    0.9  \n",
      "15      51.1    6.8    3.7    2.3    1.3  \n",
      "16      17.5    2.4    1.2    2.0    3.3  \n",
      "17      17.7    8.4    1.4    2.1    4.1  \n",
      "18      47.5    8.4   13.9    2.1    0.7  \n",
      "19      54.0    3.4    2.1    1.5    1.6  \n",
      "20      15.3    2.9    5.6    2.8    0.7  \n",
      "21       9.5    0.9    1.1    3.1    2.8  \n",
      "22      22.6    0.7    1.7    3.1    4.0  \n",
      "23      55.2    3.7    7.6    1.6    0.7  \n",
      "24      14.2    1.3    0.3    3.1    2.7  \n",
      "25      26.7    0.4    0.8    2.5    2.0  \n",
      "26      55.4    3.0    6.2    2.1    0.9  \n",
      "27      32.3    2.1    7.1    2.0    0.7  \n",
      "28       8.6    0.4    1.5    2.2    1.0  \n",
      "29      33.6    1.6   18.3    2.2    0.7  \n",
      "30      12.9    1.2    6.3    3.3    0.9  \n",
      "31       8.1    1.2    0.8    1.8    3.2  \n",
      "32      45.5    6.2    6.0    2.3    1.0  \n",
      "33      21.2   10.1   14.6    4.5    1.8  \n",
      "34      56.3    1.3    2.0    2.2    0.7  \n",
      "35      49.3    8.7    6.5    2.1    0.9  \n",
      "36      31.9    5.1   11.1    3.0    0.9  \n",
      "37      14.7    5.9   33.3    3.3    1.1  \n",
      "38      38.6    7.2   14.3    3.4    1.1  \n",
      "39      20.9    2.2    3.5    2.3    0.7  \n",
      "40      24.8    2.7   25.4    3.3    1.9  \n",
      "41      42.7    2.0    5.0    2.1    0.8  \n",
      "42      26.3    2.6   32.6    3.1    0.8  \n",
      "43      32.1    1.0    4.3    2.9    0.5  \n",
      "44       8.6    1.0    2.5    3.6    2.4  \n",
      "45       9.0    0.6    0.1    1.6    1.6  \n",
      "46      10.8    1.3    1.4    4.7    2.9  \n",
      "47      23.8   14.0   14.7    5.5    1.5  \n",
      "48      24.9    1.6    4.0    2.5    1.3  \n",
      "49      42.0    2.8    5.3    2.4    1.3  \n",
      "50      28.8    1.8   14.2    4.0    1.3  \n",
      "51      22.4    0.7    1.2    2.6    1.8  \n",
      "52       7.2    1.1    1.3    2.0    3.4  \n",
      "53      60.7    1.7    3.4    1.5    0.9  \n",
      "54      10.8    2.1    1.1    2.5    2.1  \n",
      "55      40.3    1.8    6.9    2.3    0.5  \n",
      "56      30.1    2.5   12.9    3.7    1.3  \n",
      "57      25.7    3.0    7.2    4.2    1.9  \n"
     ]
    }
   ],
   "source": [
    "file = r'CrimeByCounty_Clear.csv'\n",
    "df = pd.read_csv(file)\n",
    "print df"
   ]
  },
  {
   "cell_type": "code",
   "execution_count": 32,
   "metadata": {},
   "outputs": [
    {
     "data": {
      "text/plain": [
       "<matplotlib.collections.PathCollection at 0xb96edd8>"
      ]
     },
     "execution_count": 32,
     "metadata": {},
     "output_type": "execute_result"
    },
    {
     "data": {
      "image/png": "[encoded data removed]",
      "text/plain": [
       "<matplotlib.figure.Figure at 0xa233908>"
      ]
     },
     "metadata": {},
     "output_type": "display_data"
    }
   ],
   "source": [
    "fig = plt.figure()\n",
    "plt.scatter(df.White, df.Violent_Sum, color = 'k')\n",
    "plt.scatter(df.Hispanic,df.Violent_Sum,color = 'r' )"
   ]
  },
  {
   "cell_type": "code",
   "execution_count": null,
   "metadata": {},
   "outputs": [],
   "source": []
  }
 ],
 "metadata": {
  "kernelspec": {
   "display_name": "Python 2",
   "language": "python",
   "name": "python2"
  },
  "language_info": {
   "codemirror_mode": {
    "name": "ipython",
    "version": 2
   },
   "file_extension": ".py",
   "mimetype": "text/x-python",
   "name": "python",
   "nbconvert_exporter": "python",
   "pygments_lexer": "ipython2",
   "version": "2.7.13"
  }
 },
 "nbformat": 4,
 "nbformat_minor": 2
}
